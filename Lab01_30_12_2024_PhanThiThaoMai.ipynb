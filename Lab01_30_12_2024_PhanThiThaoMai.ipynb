{
  "nbformat": 4,
  "nbformat_minor": 0,
  "metadata": {
    "colab": {
      "provenance": [],
      "authorship_tag": "ABX9TyO38q7pOV8pS/ifia8H2DZ8",
      "include_colab_link": true
    },
    "kernelspec": {
      "name": "python3",
      "display_name": "Python 3"
    },
    "language_info": {
      "name": "python"
    }
  },
  "cells": [
    {
      "cell_type": "markdown",
      "metadata": {
        "id": "view-in-github",
        "colab_type": "text"
      },
      "source": [
        "<a href=\"https://colab.research.google.com/github/thaomai2003/MachineLearning/blob/main/Lab01_30_12_2024_PhanThiThaoMai.ipynb\" target=\"_parent\"><img src=\"https://colab.research.google.com/assets/colab-badge.svg\" alt=\"Open In Colab\"/></a>"
      ]
    },
    {
      "cell_type": "code",
      "source": [
        "#question1\n",
        "width = int(input(\"Enter the width of the rectangle: \"))\n",
        "height = int(input(\"Enter the height of the rectangle: \"))\n",
        "\n",
        "perimeter = 2 * (width + height)\n",
        "area = width * height\n",
        "\n",
        "print(f\"Perimeter: {perimeter}\")\n",
        "print(f\"Area: {area}\")\n"
      ],
      "metadata": {
        "colab": {
          "base_uri": "https://localhost:8080/"
        },
        "id": "Fd9cGgTkek7a",
        "outputId": "e4f6a138-7589-42ad-c63e-6d4d59fde6e9"
      },
      "execution_count": null,
      "outputs": [
        {
          "output_type": "stream",
          "name": "stdout",
          "text": [
            "Enter the width of the rectangle: 10\n",
            "Enter the height of the rectangle: 5\n",
            "Perimeter: 30\n",
            "Area: 50\n"
          ]
        }
      ]
    },
    {
      "cell_type": "code",
      "source": [
        "#question2\n",
        "cm = float(input(\"Enter the length in centimeters: \"))\n",
        "\n",
        "dm = cm / 10\n",
        "inch = cm * 0.393701\n",
        "\n",
        "print(f\"{cm} cm = {dm:.2f} dm\")\n",
        "print(f\"{cm} cm = {inch:.2f} inches\")\n"
      ],
      "metadata": {
        "colab": {
          "base_uri": "https://localhost:8080/"
        },
        "id": "hZUpzFVEe2PX",
        "outputId": "5d523646-9e97-443e-997d-dee6e6b24b5d"
      },
      "execution_count": null,
      "outputs": [
        {
          "output_type": "stream",
          "name": "stdout",
          "text": [
            "Enter the length in centimeters: 15\n",
            "15.0 cm = 1.50 dm\n",
            "15.0 cm = 5.91 inches\n"
          ]
        }
      ]
    },
    {
      "cell_type": "code",
      "source": [
        "#question3\n",
        "import random\n",
        "number = random.randint(10, 999)\n",
        "\n",
        "if 10 <= number <= 99:\n",
        "    print(f\"{number} is a two-digit number.\")\n",
        "elif 100 <= number <= 999:\n",
        "    print(f\"{number} is a three-digit number.\")\n"
      ],
      "metadata": {
        "colab": {
          "base_uri": "https://localhost:8080/"
        },
        "id": "EwAN3tQXfTbT",
        "outputId": "2b90dea4-a6e7-48fa-81a1-bc9f035fe841"
      },
      "execution_count": null,
      "outputs": [
        {
          "output_type": "stream",
          "name": "stdout",
          "text": [
            "11 is a two-digit number.\n"
          ]
        }
      ]
    },
    {
      "cell_type": "code",
      "source": [
        "#question4\n",
        "import random\n",
        "number = random.randint(-100,100)\n",
        "if -99 <= number <= -10:\n",
        "    result = \"is positive and has two digits\"\n",
        "elif 10 <= number <= 99:\n",
        "    result = \"is negative and has two digits\"\n",
        "else:\n",
        "    result = \"doesn't have two digits\"\n",
        "print(f\"Random number: {number} {result}.\")"
      ],
      "metadata": {
        "colab": {
          "base_uri": "https://localhost:8080/"
        },
        "id": "hSHcuVFQhbrl",
        "outputId": "715ec784-4e57-4248-ef03-251ed6dde539"
      },
      "execution_count": null,
      "outputs": [
        {
          "output_type": "stream",
          "name": "stdout",
          "text": [
            "Random number: -18 is positive and has two digits\n"
          ]
        }
      ]
    },
    {
      "cell_type": "code",
      "source": [
        "#question5\n",
        "import random\n",
        "random_number = random.randint(10, 150)\n",
        "normalized_value = (random_number - 10) / (150 - 10)\n",
        "\n",
        "print(f\"Random number: {random_number}\")\n",
        "print(f\"Normalized value: {normalized_value:.2f}\")"
      ],
      "metadata": {
        "colab": {
          "base_uri": "https://localhost:8080/"
        },
        "id": "_D2PLzbG01eB",
        "outputId": "57af3e36-d9b7-44a9-eac1-028dba4e6783"
      },
      "execution_count": null,
      "outputs": [
        {
          "output_type": "stream",
          "name": "stdout",
          "text": [
            "Random number: 135\n",
            "Normalized value: 0.89\n"
          ]
        }
      ]
    },
    {
      "cell_type": "code",
      "source": [
        "#question6\n",
        "import math\n",
        "def find_angle(hour, minute):\n",
        "    hour = hour % 12\n",
        "    hour_angle = (hour * 30) + (minute * 0.5)\n",
        "    minute_angle = minute * 6\n",
        "    angle_in_degrees = abs(hour_angle - minute_angle)\n",
        "    if angle_in_degrees > 180:\n",
        "        angle_in_degrees = 360 - angle_in_degrees\n",
        "    angle_in_radians = math.radians(angle_in_degrees)\n",
        "    return angle_in_degrees, angle_in_radians\n",
        "\n",
        "hour = int(input(\"Enter hour (0-23): \"))\n",
        "minute = int(input(\"Enter minute (0-59): \"))\n",
        "\n",
        "angle_degrees, angle_radians = find_angle(hour, minute)\n",
        "print(f\"Angle between the hands: {angle_degrees:.2f} degrees\")\n",
        "print(f\"Angle in radians: {angle_radians:.2f}\")"
      ],
      "metadata": {
        "colab": {
          "base_uri": "https://localhost:8080/"
        },
        "id": "Vfgz3gBL1r_k",
        "outputId": "2d3b4118-db70-4d2d-cd2b-76295582e82c"
      },
      "execution_count": null,
      "outputs": [
        {
          "output_type": "stream",
          "name": "stdout",
          "text": [
            "Enter hour (0-23): 5\n",
            "Enter minute (0-59): 6\n",
            "Angle between the hands: 117.00 degrees\n",
            "Angle in radians: 2.04\n"
          ]
        }
      ]
    },
    {
      "cell_type": "code",
      "source": [
        "#question7\n",
        "import math\n",
        "\n",
        "a, b, c = 1, 5, 6\n",
        "discriminant = b**2 - 4*a*c\n",
        "print(f\"Discriminant: {discriminant}\")\n",
        "\n",
        "if discriminant > 0:\n",
        "    print(\"Two real and distinct solutions.\")\n",
        "    root1 = (-b + math.sqrt(discriminant)) / (2*a)\n",
        "    root2 = (-b - math.sqrt(discriminant)) / (2*a)\n",
        "    print(f\"Solutions: {root1}, {root2}\")\n",
        "elif discriminant == 0:\n",
        "    print(\"One real repeated solution.\")\n",
        "    root = -b / (2*a)\n",
        "    print(f\"Solution: {root}\")\n",
        "else:\n",
        "    print(\"No real solutions, only complex solutions.\")\n",
        "    real = -b / (2*a)\n",
        "    imag = math.sqrt(-discriminant) / (2*a)\n",
        "    print(f\"Solutions: {real}+{imag}i, {real}-{imag}i\")"
      ],
      "metadata": {
        "colab": {
          "base_uri": "https://localhost:8080/"
        },
        "id": "QZW4J3Lz2Nt9",
        "outputId": "c2bd2b9b-1e85-4319-d7d9-4a4cde707d9c"
      },
      "execution_count": null,
      "outputs": [
        {
          "output_type": "stream",
          "name": "stdout",
          "text": [
            "Discriminant: 1\n",
            "Two real and distinct solutions.\n",
            "Solutions: -2.0, -3.0\n"
          ]
        }
      ]
    },
    {
      "cell_type": "code",
      "source": [
        "#question8\n",
        "text = \"Today is Sunday and we don't need to wake up at 6 am\"\n",
        "\n",
        "words = text.split()\n",
        "print(f\"Number of words: {len(words)}\")\n",
        "\n",
        "if any(char.isdigit() for char in text):\n",
        "    number = next(char for char in text if char.isdigit())\n",
        "    print(f\"Number found: {number}\")\n",
        "    print(f\"Position of the number: {text.index(number)}\")\n",
        "else:\n",
        "    print(\"No numbers found in the string.\")"
      ],
      "metadata": {
        "colab": {
          "base_uri": "https://localhost:8080/"
        },
        "id": "1V2j7dCh4A3O",
        "outputId": "750ab79b-0bbe-4335-87c5-433111dda497"
      },
      "execution_count": null,
      "outputs": [
        {
          "output_type": "stream",
          "name": "stdout",
          "text": [
            "Number of words: 13\n",
            "Number found: 6\n",
            "Position of the number: 48\n"
          ]
        }
      ]
    },
    {
      "cell_type": "code",
      "source": [
        "#question9\n",
        "student_name = input(\"Enter student's name: \")\n",
        "dob = input(\"Enter date of birth (DD/MM/YYYY): \")\n",
        "\n",
        "subject1 = input(\"Enter Subject 1 name: \")\n",
        "mark1 = float(input(f\"Enter mark for {subject1}: \"))\n",
        "\n",
        "subject2 = input(\"Enter Subject 2 name: \")\n",
        "mark2 = float(input(f\"Enter mark for {subject2}: \"))\n",
        "\n",
        "subject3 = input(\"Enter Subject 3 name: \")\n",
        "mark3 = float(input(f\"Enter mark for {subject3}: \"))\n",
        "\n",
        "average = (mark1 + mark2 + mark3) / 3\n",
        "\n",
        "print(f\"\\nStudent: {student_name}, Date of birth: {dob}\")\n",
        "print(f\"{subject1}: {mark1}\")\n",
        "print(f\"{subject2}: {mark2}\")\n",
        "print(f\"{subject3}: {mark3}\")\n",
        "print(f\"Average Mark: {average:.2f}\")"
      ],
      "metadata": {
        "colab": {
          "base_uri": "https://localhost:8080/"
        },
        "id": "z-UQKySw4IWa",
        "outputId": "8de087da-150d-4346-c662-efb5c3e102ad"
      },
      "execution_count": null,
      "outputs": [
        {
          "output_type": "stream",
          "name": "stdout",
          "text": [
            "Enter student's name: Phan Thi Thao Mai\n",
            "Enter date of birth (DD/MM/YYYY): 12/03/2003\n",
            "Enter Subject 1 name: Machine Learning\n",
            "Enter mark for Machine Learning: 9\n",
            "Enter Subject 2 name: UX/UI\n",
            "Enter mark for UX/UI: 8.5\n",
            "Enter Subject 3 name: Deep Learning\n",
            "Enter mark for Deep Learning: 8.75\n",
            "\n",
            "Student: Phan Thi Thao Mai, Date of birth: 12/03/2003\n",
            "Machine Learning: 9.0\n",
            "UX/UI: 8.5\n",
            "Deep Learning: 8.75\n",
            "Average Mark: 8.75\n"
          ]
        }
      ]
    },
    {
      "cell_type": "code",
      "source": [
        "#question10\n",
        "import math\n",
        "x1, y1 = map(float, input(\"Enter point 1 (x1 y1): \").split())\n",
        "x2, y2 = map(float, input(\"Enter point 2 (x2 y2): \").split())\n",
        "\n",
        "euclidean = math.sqrt((x2 - x1) ** 2 + (y2 - y1) ** 2)\n",
        "manhattan = abs(x2 - x1) + abs(y2 - y1)\n",
        "\n",
        "dot_product = x1 * x2 + y1 * y2\n",
        "magnitude1 = math.sqrt(x1 ** 2 + y1 ** 2)\n",
        "magnitude2 = math.sqrt(x2 ** 2 + y2 ** 2)\n",
        "cosine_distance = 1 - (dot_product / (magnitude1 * magnitude2))\n",
        "\n",
        "print(f\"Euclidean Distance: {euclidean:.2f}\")\n",
        "print(f\"Manhattan Distance: {manhattan:.2f}\")\n",
        "print(f\"Cosine Distance: {cosine_distance:.2f}\")"
      ],
      "metadata": {
        "colab": {
          "base_uri": "https://localhost:8080/"
        },
        "id": "wOEZ74wJ5zJn",
        "outputId": "a3509af1-9365-47ae-f047-183bea720ffa"
      },
      "execution_count": null,
      "outputs": [
        {
          "output_type": "stream",
          "name": "stdout",
          "text": [
            "Enter point 1 (x1 y1): 4 6\n",
            "Enter point 2 (x2 y2): 3 8\n",
            "Euclidean Distance: 2.24\n",
            "Manhattan Distance: 3.00\n",
            "Cosine Distance: 0.03\n"
          ]
        }
      ]
    },
    {
      "cell_type": "code",
      "source": [
        "#question11\n",
        "from datetime import datetime\n",
        "birthday_input = input(\"Enter your birthday (DD MM YYYY): \")\n",
        "\n",
        "birthday = datetime.strptime(birthday_input, \"%d %m %Y\")\n",
        "\n",
        "today = datetime.today()\n",
        "\n",
        "age = today.year - birthday.year - ((today.month, today.day) < (birthday.month, birthday.day))\n",
        "\n",
        "print(f\"Weekday: {birthday.strftime('%A')}\")\n",
        "print(f\"Month: {birthday.strftime('%B')}\")\n",
        "print(f\"Your age: {age}\")"
      ],
      "metadata": {
        "colab": {
          "base_uri": "https://localhost:8080/"
        },
        "id": "YnnzIFf76SJI",
        "outputId": "03c0cbb9-fb17-41a1-89e5-db7b728647c0"
      },
      "execution_count": null,
      "outputs": [
        {
          "output_type": "stream",
          "name": "stdout",
          "text": [
            "Enter your birthday (DD MM YYYY): 12 03 2003\n",
            "Weekday: Wednesday\n",
            "Month: March\n",
            "Your age: 21\n"
          ]
        }
      ]
    },
    {
      "cell_type": "code",
      "source": [
        "#question12\n",
        "import pandas\n",
        "\n",
        "CustomerList = [\"John\", \"John\", \"Marry\", \"Marry\", \"Marry\"]\n",
        "ProductList = [\"Beer\", \"Pork\", \"Milk\", \"Vegetable\", \"Pork\"]\n",
        "QuantityList = [\"2 Bottles\", \"1 kg\", \"5 boxes\", \"2 bunches\", \"3 kg\"]\n",
        "\n",
        "data = {\n",
        "    'Customer': CustomerList,\n",
        "    'Product': ProductList,\n",
        "    'Quantity': QuantityList\n",
        "}\n",
        "dataframe = pandas.DataFrame(data)\n",
        "\n",
        "dataframe[['QuantityValue', 'Unit']] = dataframe['Quantity'].str.extract(r'(\\d+)\\s*(\\D+)')\n",
        "\n",
        "dataframe['QuantityValue'] = pandas.to_numeric(dataframe['QuantityValue'])\n",
        "\n",
        "result = dataframe[(dataframe['Product'] == 'Pork') & (dataframe['QuantityValue'] > 2)]\n",
        "\n",
        "print(\"DataFrame:\")\n",
        "print(dataframe)\n",
        "print(\"\\nCustomers who bought Pork over 2kg:\")\n",
        "print(result[['Customer', 'Product', 'Quantity']])\n"
      ],
      "metadata": {
        "colab": {
          "base_uri": "https://localhost:8080/"
        },
        "id": "XMpyQv0M6upu",
        "outputId": "8279b3b7-ebfe-4cb3-9256-b7831bb4db6f"
      },
      "execution_count": null,
      "outputs": [
        {
          "output_type": "stream",
          "name": "stdout",
          "text": [
            "DataFrame:\n",
            "  Customer    Product   Quantity  QuantityValue     Unit\n",
            "0     John       Beer  2 Bottles              2  Bottles\n",
            "1     John       Pork       1 kg              1       kg\n",
            "2    Marry       Milk    5 boxes              5    boxes\n",
            "3    Marry  Vegetable  2 bunches              2  bunches\n",
            "4    Marry       Pork       3 kg              3       kg\n",
            "\n",
            "Customers who bought Pork over 2kg:\n",
            "  Customer Product Quantity\n",
            "4    Marry    Pork     3 kg\n"
          ]
        }
      ]
    }
  ]
}